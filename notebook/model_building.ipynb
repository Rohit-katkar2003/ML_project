{
 "cells": [
  {
   "cell_type": "markdown",
   "metadata": {},
   "source": [
    "### Model Building \n",
    "- in this notebook we creating the machine learning model \n"
   ]
  },
  {
   "cell_type": "markdown",
   "metadata": {},
   "source": [
    "### 1. Importing the Dependencies "
   ]
  },
  {
   "cell_type": "code",
   "execution_count": 34,
   "metadata": {},
   "outputs": [],
   "source": [
    "# import required libraries \n",
    "import pandas as pd \n",
    "import numpy as np \n",
    "import seaborn as sns \n",
    "import matplotlib.pyplot as plt \n",
    "from sklearn.tree import DecisionTreeRegressor \n",
    "from sklearn.ensemble import RandomForestRegressor , AdaBoostRegressor  \n",
    "from sklearn.neighbors import KNeighborsRegressor  \n",
    "from sklearn.linear_model import LinearRegression , Ridge ,Lasso \n",
    "from sklearn.metrics import r2_score , confusion_matrix ,mean_absolute_error ,mean_squared_error \n",
    "from sklearn.svm import SVR \n",
    "from sklearn.model_selection import train_test_split , GridSearchCV , RandomizedSearchCV\n",
    "from xgboost import XGBRegressor \n",
    "from catboost import CatBoostRegressor\n",
    "import warnings \n",
    "warnings.filterwarnings('ignore')\n"
   ]
  },
  {
   "cell_type": "markdown",
   "metadata": {},
   "source": [
    "- Importing pandas dataframe"
   ]
  },
  {
   "cell_type": "code",
   "execution_count": 19,
   "metadata": {},
   "outputs": [
    {
     "data": {
      "text/html": [
       "<div>\n",
       "<style scoped>\n",
       "    .dataframe tbody tr th:only-of-type {\n",
       "        vertical-align: middle;\n",
       "    }\n",
       "\n",
       "    .dataframe tbody tr th {\n",
       "        vertical-align: top;\n",
       "    }\n",
       "\n",
       "    .dataframe thead th {\n",
       "        text-align: right;\n",
       "    }\n",
       "</style>\n",
       "<table border=\"1\" class=\"dataframe\">\n",
       "  <thead>\n",
       "    <tr style=\"text-align: right;\">\n",
       "      <th></th>\n",
       "      <th>gender</th>\n",
       "      <th>race/ethnicity</th>\n",
       "      <th>parental level of education</th>\n",
       "      <th>lunch</th>\n",
       "      <th>test preparation course</th>\n",
       "      <th>math score</th>\n",
       "      <th>reading score</th>\n",
       "      <th>writing score</th>\n",
       "    </tr>\n",
       "  </thead>\n",
       "  <tbody>\n",
       "    <tr>\n",
       "      <th>314</th>\n",
       "      <td>female</td>\n",
       "      <td>group C</td>\n",
       "      <td>bachelor's degree</td>\n",
       "      <td>standard</td>\n",
       "      <td>completed</td>\n",
       "      <td>59</td>\n",
       "      <td>64</td>\n",
       "      <td>75</td>\n",
       "    </tr>\n",
       "    <tr>\n",
       "      <th>290</th>\n",
       "      <td>male</td>\n",
       "      <td>group C</td>\n",
       "      <td>associate's degree</td>\n",
       "      <td>standard</td>\n",
       "      <td>none</td>\n",
       "      <td>76</td>\n",
       "      <td>70</td>\n",
       "      <td>68</td>\n",
       "    </tr>\n",
       "    <tr>\n",
       "      <th>205</th>\n",
       "      <td>male</td>\n",
       "      <td>group D</td>\n",
       "      <td>some high school</td>\n",
       "      <td>standard</td>\n",
       "      <td>completed</td>\n",
       "      <td>74</td>\n",
       "      <td>71</td>\n",
       "      <td>78</td>\n",
       "    </tr>\n",
       "    <tr>\n",
       "      <th>770</th>\n",
       "      <td>male</td>\n",
       "      <td>group B</td>\n",
       "      <td>high school</td>\n",
       "      <td>standard</td>\n",
       "      <td>none</td>\n",
       "      <td>52</td>\n",
       "      <td>48</td>\n",
       "      <td>49</td>\n",
       "    </tr>\n",
       "    <tr>\n",
       "      <th>985</th>\n",
       "      <td>male</td>\n",
       "      <td>group A</td>\n",
       "      <td>high school</td>\n",
       "      <td>standard</td>\n",
       "      <td>none</td>\n",
       "      <td>57</td>\n",
       "      <td>51</td>\n",
       "      <td>54</td>\n",
       "    </tr>\n",
       "  </tbody>\n",
       "</table>\n",
       "</div>"
      ],
      "text/plain": [
       "     gender race/ethnicity  ... reading score writing score\n",
       "314  female        group C  ...            64            75\n",
       "290    male        group C  ...            70            68\n",
       "205    male        group D  ...            71            78\n",
       "770    male        group B  ...            48            49\n",
       "985    male        group A  ...            51            54\n",
       "\n",
       "[5 rows x 8 columns]"
      ]
     },
     "execution_count": 19,
     "metadata": {},
     "output_type": "execute_result"
    }
   ],
   "source": [
    "data = pd.read_csv(\"dataset/StudentsPerformance.csv\")\n",
    "data.sample(5)"
   ]
  },
  {
   "cell_type": "markdown",
   "metadata": {},
   "source": [
    "- we are predicting the math_Score  \n",
    "### Preparing X & Y from data "
   ]
  },
  {
   "cell_type": "code",
   "execution_count": 20,
   "metadata": {},
   "outputs": [],
   "source": [
    "X = data.drop('math score',axis=1)"
   ]
  },
  {
   "cell_type": "code",
   "execution_count": 21,
   "metadata": {},
   "outputs": [],
   "source": [
    "y = data['math score']"
   ]
  },
  {
   "cell_type": "code",
   "execution_count": 26,
   "metadata": {},
   "outputs": [],
   "source": [
    "# creating the column transformer \n",
    "num_features = X.select_dtypes(exclude=\"O\").columns\n",
    "cat_feature = X.select_dtypes(include=\"O\").columns \n",
    "\n",
    "\n",
    "# importing column transformer \n",
    "from sklearn.preprocessing import StandardScaler , OneHotEncoder \n",
    "from sklearn.compose import ColumnTransformer \n",
    "\n",
    "preprocessor = ColumnTransformer(\n",
    "    [\n",
    "        (\"OneHotencoder\" , OneHotEncoder() , cat_feature) , \n",
    "        (\"standardscaler\" , StandardScaler() , num_features)\n",
    "    ]\n",
    ")"
   ]
  },
  {
   "cell_type": "code",
   "execution_count": 27,
   "metadata": {},
   "outputs": [],
   "source": [
    "X = preprocessor.fit_transform(X)"
   ]
  },
  {
   "cell_type": "code",
   "execution_count": 29,
   "metadata": {},
   "outputs": [],
   "source": [
    "# splitting the data into training and testing set \n",
    "x_train ,x_test ,y_train ,y_test = train_test_split(X,y , test_size=0.25 , random_state=43)"
   ]
  },
  {
   "cell_type": "code",
   "execution_count": 30,
   "metadata": {},
   "outputs": [
    {
     "data": {
      "text/plain": [
       "((750, 19), (250, 19), (750,), (250,))"
      ]
     },
     "execution_count": 30,
     "metadata": {},
     "output_type": "execute_result"
    }
   ],
   "source": [
    "x_train.shape , x_test.shape,y_train.shape , y_test.shape"
   ]
  },
  {
   "cell_type": "code",
   "execution_count": 39,
   "metadata": {},
   "outputs": [
    {
     "data": {
      "text/plain": [
       "'\\n    result = f\"\"\"the performance matrix results\\n            mean squared error : {mse} \\n            mean absolute error :{mae} \\n            root mean squared error :{rmse}\\n            r2_score of matrix :{r2}\"\"\"'"
      ]
     },
     "execution_count": 39,
     "metadata": {},
     "output_type": "execute_result"
    }
   ],
   "source": [
    "# creating the function which help us to give complete matrix evalution of model \n",
    "def see_performance(y_true , y_prediction) : \n",
    "    mae = mean_squared_error(y_true , y_prediction)\n",
    "    mse = mean_absolute_error(y_true , y_prediction) \n",
    "    rmse = np.sqrt(mse) \n",
    "    r2 = r2_score(y_true , y_prediction) \n",
    "\n",
    "    return r2 , mse , mae , rmse\n",
    "'''\n",
    "    result = f\"\"\"the performance matrix results\n",
    "            mean squared error : {mse} \n",
    "            mean absolute error :{mae} \n",
    "            root mean squared error :{rmse}\n",
    "            r2_score of matrix :{r2}\"\"\"'''\n",
    "    "
   ]
  },
  {
   "cell_type": "code",
   "execution_count": 47,
   "metadata": {},
   "outputs": [
    {
     "name": "stdout",
     "output_type": "stream",
     "text": [
      "------------------------------------------------------------\n",
      "linearRegression Regression model \n",
      "the performance matrix results of test datset \n",
      "            mean squared error : 4.419748526651196 \n",
      "            mean absolute error :29.90074959115574 \n",
      "            root mean squared error :2.1023197964751215\n",
      "            r2_score of matrix :0.8629199185258796\n",
      "============================================================\n",
      "the performance matrix results of train dataset \n",
      "            mean squared error : 4.201293223308026 \n",
      "            mean absolute error :27.982782313871237 \n",
      "            root mean squared error :2.049705643088301\n",
      "            r2_score of matrix :0.8799076289062795\n",
      "------------------------------------------------------------\n",
      "------------------------------------------------------------\n",
      "Lasso Regression model \n",
      "the performance matrix results of test datset \n",
      "            mean squared error : 5.416742320652253 \n",
      "            mean absolute error :46.35239463233846 \n",
      "            root mean squared error :2.3273895936547135\n",
      "            r2_score of matrix :0.7874972995793734\n",
      "============================================================\n",
      "the performance matrix results of train dataset \n",
      "            mean squared error : 5.149207501069506 \n",
      "            mean absolute error :42.83732005040391 \n",
      "            root mean squared error :2.269186528487578\n",
      "            r2_score of matrix :0.8161571183862066\n",
      "------------------------------------------------------------\n",
      "------------------------------------------------------------\n",
      "Ridge Regression model \n",
      "the performance matrix results of test datset \n",
      "            mean squared error : 4.420308695199286 \n",
      "            mean absolute error :29.929353534939583 \n",
      "            root mean squared error :2.1024530185474504\n",
      "            r2_score of matrix :0.8627887836547481\n",
      "============================================================\n",
      "the performance matrix results of train dataset \n",
      "            mean squared error : 4.2006531700688345 \n",
      "            mean absolute error :27.985407450935707 \n",
      "            root mean squared error :2.0495495041761824\n",
      "            r2_score of matrix :0.8798963627308513\n",
      "------------------------------------------------------------\n",
      "------------------------------------------------------------\n",
      "k-nearest_Neighbor Regression model \n",
      "the performance matrix results of test datset \n",
      "            mean squared error : 5.4936 \n",
      "            mean absolute error :47.609759999999994 \n",
      "            root mean squared error :2.3438429981549533\n",
      "            r2_score of matrix :0.7817329040575715\n",
      "============================================================\n",
      "the performance matrix results of train dataset \n",
      "            mean squared error : 4.7376000000000005 \n",
      "            mean absolute error :36.17845333333334 \n",
      "            root mean squared error :2.1766028576660466\n",
      "            r2_score of matrix :0.8447346588137594\n",
      "------------------------------------------------------------\n",
      "------------------------------------------------------------\n",
      "Decision tree Regression model \n",
      "the performance matrix results of test datset \n",
      "            mean squared error : 6.1 \n",
      "            mean absolute error :62.044 \n",
      "            root mean squared error :2.4698178070456938\n",
      "            r2_score of matrix :0.715559084930232\n",
      "============================================================\n",
      "the performance matrix results of train dataset \n",
      "            mean squared error : 0.03866666666666667 \n",
      "            mean absolute error :0.214 \n",
      "            root mean squared error :0.19663841605003501\n",
      "            r2_score of matrix :0.9990815864153252\n",
      "------------------------------------------------------------\n",
      "------------------------------------------------------------\n",
      "Random forest Regression model \n",
      "the performance matrix results of test datset \n",
      "            mean squared error : 4.934425333333333 \n",
      "            mean absolute error :38.519638533999995 \n",
      "            root mean squared error :2.2213566425347673\n",
      "            r2_score of matrix :0.823406594791315\n",
      "============================================================\n",
      "the performance matrix results of train dataset \n",
      "            mean squared error : 1.7803915555555554 \n",
      "            mean absolute error :5.213220719185185 \n",
      "            root mean squared error :1.3343131399920918\n",
      "            r2_score of matrix :0.9776266694934223\n",
      "------------------------------------------------------------\n",
      "------------------------------------------------------------\n",
      "xgboost Regression model \n",
      "the performance matrix results of test datset \n",
      "            mean squared error : 5.305596885681152 \n",
      "            mean absolute error :45.29853678106722 \n",
      "            root mean squared error :2.303388131792198\n",
      "            r2_score of matrix :0.7923287142458851\n",
      "============================================================\n",
      "the performance matrix results of train dataset \n",
      "            mean squared error : 0.6178310272892317 \n",
      "            mean absolute error :0.9425475749508941 \n",
      "            root mean squared error :0.7860222816747828\n",
      "            r2_score of matrix :0.9959549135652469\n",
      "------------------------------------------------------------\n",
      "------------------------------------------------------------\n",
      "catboost Regression model \n",
      "the performance matrix results of test datset \n",
      "            mean squared error : 4.725522798176243 \n",
      "            mean absolute error :35.25408391692411 \n",
      "            root mean squared error :2.173826763607497\n",
      "            r2_score of matrix :0.8383775403056495\n",
      "============================================================\n",
      "the performance matrix results of train dataset \n",
      "            mean squared error : 2.3118590831857126 \n",
      "            mean absolute error :9.018742532242124 \n",
      "            root mean squared error :1.5204798858208262\n",
      "            r2_score of matrix :0.9612946931855361\n",
      "------------------------------------------------------------\n",
      "------------------------------------------------------------\n",
      "adaboost Regression model \n",
      "the performance matrix results of test datset \n",
      "            mean squared error : 5.029786705369604 \n",
      "            mean absolute error :40.02089849771588 \n",
      "            root mean squared error :2.242718597008908\n",
      "            r2_score of matrix :0.8165240637192217\n",
      "============================================================\n",
      "the performance matrix results of train dataset \n",
      "            mean squared error : 4.665285918325191 \n",
      "            mean absolute error :32.792874025177106 \n",
      "            root mean squared error :2.1599272946849832\n",
      "            r2_score of matrix :0.8592643879193878\n",
      "------------------------------------------------------------\n"
     ]
    }
   ],
   "source": [
    "# model training \n",
    "models ={ \n",
    "    \"linearRegression\":LinearRegression() ,\n",
    "    \"Lasso\" :Lasso() , \n",
    "    \"Ridge\" : Ridge() , \n",
    "    \"k-nearest_Neighbor\":KNeighborsRegressor() , \n",
    "    \"Decision tree\" : DecisionTreeRegressor() , \n",
    "    \"Random forest\" : RandomForestRegressor() , \n",
    "    \"xgboost\" : XGBRegressor() , \n",
    "    \"catboost\" : CatBoostRegressor(verbose=False) , \n",
    "    \"adaboost\" : AdaBoostRegressor()\n",
    "}\n",
    "\n",
    "model_list = [] \n",
    "r2_squared_list = [] \n",
    "\n",
    "for i in range(len(models)): \n",
    "    model = list(models.values())[i] \n",
    "    model.fit(x_train , y_train) \n",
    "\n",
    "\n",
    "    y_pred = model.predict(x_test) \n",
    "    y_pred_train = model.predict(x_train)  \n",
    "    r2_train , mse_train , mae_train , rmse_train  =  see_performance(y_train , y_pred_train)    \n",
    "    r2 , mse , mae , rmse =  see_performance(y_test , y_pred) \n",
    "    print(\"--\"*30)\n",
    "    print(f\"{list(models.keys())[i]} Regression model \")\n",
    "    result = f\"\"\"the performance matrix results of test datset \n",
    "            mean squared error : {mse} \n",
    "            mean absolute error :{mae} \n",
    "            root mean squared error :{rmse}\n",
    "            r2_score of matrix :{r2}\"\"\" \n",
    "    print(result)  \n",
    "    print(\"==\"*30)\n",
    "    result = f\"\"\"the performance matrix results of train dataset \n",
    "            mean squared error : {mse_train} \n",
    "            mean absolute error :{mae_train} \n",
    "            root mean squared error :{rmse_train}\n",
    "            r2_score of matrix :{r2_train}\"\"\" \n",
    "    print(result)\n",
    "    print(\"--\"*30)"
   ]
  },
  {
   "cell_type": "code",
   "execution_count": 38,
   "metadata": {},
   "outputs": [
    {
     "data": {
      "text/plain": [
       "[]"
      ]
     },
     "execution_count": 38,
     "metadata": {},
     "output_type": "execute_result"
    }
   ],
   "source": [
    "r2_squared_list"
   ]
  },
  {
   "cell_type": "code",
   "execution_count": null,
   "metadata": {},
   "outputs": [],
   "source": []
  }
 ],
 "metadata": {
  "kernelspec": {
   "display_name": "base",
   "language": "python",
   "name": "python3"
  },
  "language_info": {
   "codemirror_mode": {
    "name": "ipython",
    "version": 3
   },
   "file_extension": ".py",
   "mimetype": "text/x-python",
   "name": "python",
   "nbconvert_exporter": "python",
   "pygments_lexer": "ipython3",
   "version": "3.11.4"
  }
 },
 "nbformat": 4,
 "nbformat_minor": 2
}
